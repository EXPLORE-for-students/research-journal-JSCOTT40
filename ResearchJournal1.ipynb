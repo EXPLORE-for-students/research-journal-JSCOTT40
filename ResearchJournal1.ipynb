{
 "cells": [
  {
   "cell_type": "markdown",
   "metadata": {},
   "source": [
    "# Research Notebook\n",
    "## Jayce Scott\n",
    "## Date: Januray 27 2025"
   ]
  },
  {
   "cell_type": "markdown",
   "metadata": {},
   "source": [
    "# 1: Experience\n",
    "## Describe at least one research activity you worked on this week. \n",
    "\n",
    " - Developed code to simulate the mass and pressure profiles of compact objects using the Tolman–Oppenheimer–Volkoff (TOV) equations.\n",
    " - Attended the weekly research group meeting, where we discussed the results and outlined the next steps.\n",
    "\n",
    "## Motivation:\n",
    "\n",
    "The primary motivation for this week's activities is to establish a solid foundation in the fundamental tools that will be crucial throughout our research. Our main focus is on using the Tolman–Oppenheimer–Volkoff (TOV) equations to simulate dense astrophysical objects, such as neutron and boson stars. The work completed this week sets the groundwork for further exploration in future phases of the research. \n",
    "\n",
    "\n"
   ]
  },
  {
   "cell_type": "markdown",
   "metadata": {},
   "source": [
    "<span style=\"color: red;\">Ok but how does this tie in to the overall aim of the research project. Make sure you have a clear understanding of the goals you are trying to achieve with your research.</span>"
   ]
  },
  {
   "cell_type": "markdown",
   "metadata": {},
   "source": [
    "# 2: What? (What happened?)\n",
    "## Describe what happened during your activities for the week.\n",
    "\n",
    "This weeks focus was on implementing a model that simulates the mass-radius relationship of a relativistic object using the Tolman-Oppenheimer-Volkoff (TOV) equations. It begins by defining the energy density as a function of pressure using a polytropic equation of state as mentioned in the paper (Pitz and Schaffner-Bielich 2024). All physical constants, such as the gravitational constant, speed of light, and solar mass, are defined in MeV-based units for simplicity, along with the initial pressure and integration range. The TOV equations, which describe the gradients of pressure and mass with respect to radius, are implemented with these equations/constants. These equations are numerically solved using the solve_ivp function with the RK45 method, and integration halts when the pressure drops below zero. It is important to note that these equations are only for the one fluid verison of these equations. The results, including radius, pressure  mass, are extracted and converted to physical units (kilometers for radius and solar masses for mass). Finally the data is plotted to show how the star's mass varies with its radius based on the specified equation of state. The equations are: \n",
    "\n",
    "\n",
    "\n",
    "$$\n",
    "\\frac{dp}{dr} = -\\frac{G m(r) \\epsilon}{r^2} \\left( 1 + \\frac{p}{\\epsilon c^2} \\right) \\left( 1 + \\frac{4 \\pi r^3 p}{m(r) c^2} \\right) \\left( 1 - \\frac{2 G m(r)}{r c^2} \\right)^{-1}\n",
    "$$\n",
    "\n",
    "$$\n",
    "\\frac{dm}{dr} = 4 \\pi r^2 \\epsilon\n",
    "$$\n",
    "\n",
    "with the Polytropic equation of state as: \n",
    "\n",
    "$$\n",
    "\\epsilon(p) = \\epsilon_0 \\left( \\frac{p}{\\epsilon_0} \\right)^{\\frac{2}{n}} + \\frac{n+2}{n-2} p\n",
    "$$\n",
    "\n",
    "where:\n",
    "\n",
    "- \\( p \\) is the pressure,\n",
    "- \\( r \\) is the radial coordinate,\n",
    "- \\( m(r) \\) is the mass enclosed within radius \\( r \\),\n",
    "- \\(\\epsilon\\) is the energy density,\n",
    "- \\( G \\) is the gravitational constant,\n",
    "- \\( c \\) is the speed of light.\n",
    "- \\( \\epsilon(p) \\) is the energy density,\n",
    "- \\( p \\) is the pressure,\n",
    "- \\( \\epsilon_0 \\) is a constant energy density parameter,\n",
    "- \\( n \\) is the polytropic index\n",
    "\n",
    "These equations describe the balance between gravitational collapse and internal pressure in relativistic stars. the code modelling these equations can be seen below: "
   ]
  },
  {
   "cell_type": "code",
   "execution_count": 10,
   "metadata": {},
   "outputs": [
    {
     "name": "stderr",
     "output_type": "stream",
     "text": [
      "C:\\Users\\12897\\AppData\\Local\\Temp/ipykernel_18548/3236632457.py:7: RuntimeWarning: invalid value encountered in double_scalars\n",
      "  return np.where(p > 0, epsilon_0 * (p / epsilon_0)**(2 / n) + (n + 2) / (n - 2) * p, 0)\n"
     ]
    },
    {
     "data": {
      "image/png": "[encoded data removed]",
      "text/plain": [
       "<Figure size 432x288 with 1 Axes>"
      ]
     },
     "metadata": {
      "needs_background": "light"
     },
     "output_type": "display_data"
    }
   ],
   "source": [
    "import numpy as np\n",
    "import matplotlib.pyplot as plt\n",
    "from scipy.integrate import solve_ivp\n",
    "\n",
    "# Energy density as a function of pressure (Given from Paper)\n",
    "def energy_density(p, epsilon_0, n):\n",
    "    return np.where(p > 0, epsilon_0 * (p / epsilon_0)**(2 / n) + (n + 2) / (n - 2) * p, 0)\n",
    "\n",
    "# Define constants in MeV units\n",
    "G = 6.7086e-45 * 1e6  # Gravitational constant in MeV^-2\n",
    "c = 1\n",
    "M_sun = 1.1158e60 / 1e6  # Solar mass in MeV/c^2\n",
    "masslist = []\n",
    "\n",
    "epsilon_0 = 500 # Energy Constant in MeV^4\n",
    "n = 4  # Polytropic index\n",
    "p0 = 1  # Initial pressure in MeV/fm³\n",
    "m0 = 0  # Initial mass in MeV\n",
    "\n",
    "IntCon = [p0, m0]  # Initial conditions\n",
    "R_Int = [1*5.0677e15 / 1e6, 200*5.0677e15]  # Distance in MEv-1\n",
    "\n",
    "p_eval=np.linspace(1, 1000, 1000)\n",
    "\n",
    "# ODE system\n",
    "def f(r, y):\n",
    "    p, m = y\n",
    "    epsilon = energy_density(p, epsilon_0, n)  # Compute energy density\n",
    "\n",
    "    if p <= 0 or r <= 0:  # Avoid singularities\n",
    "        return [0, 0]\n",
    "\n",
    "    # Pressure gradient (dpdr) from TOV w/r to epsilon\n",
    "    dpdr = (-epsilon * G * m / r**2) * (1 + p / (epsilon * c**2)) * \\\n",
    "           (1 + 4 * np.pi * r**3 * p / ((m + 1e-10) * c**2)) * \\\n",
    "           (1 - 2 * G * m / (r * c**2))**(-1)\n",
    "\n",
    "    # Mass gradient (dmdr)\n",
    "    dmdr = 4 * np.pi * (r**2) * epsilon\n",
    "    return [dpdr, dmdr]\n",
    "\n",
    "# Stop integration when pressure becomes negligible\n",
    "def p0_equals_zero(r, y):\n",
    "    p, _ = y\n",
    "    return p\n",
    "\n",
    "p0_equals_zero.terminal = True\n",
    "p0_equals_zero.direction = -1\n",
    "\n",
    "# Solve the ODE\n",
    "solutionsRel = solve_ivp(\n",
    "    f,\n",
    "    R_Int,\n",
    "    IntCon,\n",
    "    method='RK45',\n",
    "    t_eval=np.linspace(R_Int[0], R_Int[1], 10000),\n",
    "    events=p0_equals_zero,\n",
    "    dense_output=True,\n",
    "    rtol=1e-6,\n",
    "    atol=1e-8\n",
    ")\n",
    "\n",
    "# Extract results\n",
    "radius_rel = solutionsRel.t / (5.0677e15)  # Convert radius back to km\n",
    "pressure_rel = solutionsRel.y[0]  # Pressure in MeV/cm³\n",
    "mass_rel = solutionsRel.y[1]  # Mass in MeV\n",
    "energy_density_rel = energy_density(pressure_rel, epsilon_0, n)  # Compute energy density in MeV/fm³\n",
    "\n",
    "# Normalize mass to solar masses\n",
    "mass_rel_solar = mass_rel / (M_sun)  # Convert Ev mass to solar masses from (Mev)\n",
    "\n",
    "masslist.append((mass_rel_solar[-1]))\n",
    "\n",
    "# Plotting\n",
    "plt.plot(radius_rel, mass_rel, color=\"blue\", lw=1)\n",
    "\n",
    "\n",
    "plt.title(\"Figure 1: Mass vs Radius\")\n",
    "plt.xlabel(\"(Radius) (km)\")\n",
    "plt.ylabel(\"(Mass) (Solar Masses)\")\n",
    "plt.grid()\n",
    "plt.show()"
   ]
  },
  {
   "cell_type": "markdown",
   "metadata": {},
   "source": [
    "<span style=\"color: red;\">Very nice code and plot.</span>"
   ]
  },
  {
   "cell_type": "markdown",
   "metadata": {},
   "source": [
    "# 3: So what? (What does it mean?)\n",
    "## Describe your results\n",
    "\n",
    "My results illustrate the mass-radius relationship for a relativistic compact object, modeled using the Tolman-Oppenheimer-Volkoff (TOV) equations with a polytropic equation of state. The overall \"Shape\" aligns with expected theoretical behavior, displaying a cubic falloff in mass as a function of radius. However, there are discrepancies in the orders of magnitude, which could result from issues with parameter scaling or numerical precision. Despite these challenges, the general \"shape\" of the curve appears consistent with what is required for this project. Moving forward, I plan to investigate possible numerical instabilities, refine the pressure scale, and compare my findings with observational data to ensure consistency with known neutron and boson star properties. These adjustments will help improve the accuracy and reliability of my model in future iterations\n",
    "\n"
   ]
  },
  {
   "cell_type": "markdown",
   "metadata": {},
   "source": [
    "<span style=\"color: red;\">Be more specific about what you mean by 'consistent with what is required for this project.' Explain the mass-radius plot and why you get the shape you do for the inputs you used.</span>"
   ]
  },
  {
   "cell_type": "markdown",
   "metadata": {},
   "source": [
    "# 4. Now what? (What's next?)\n",
    "## Plan for the next week\n",
    "\n",
    "Next week, the plan is to extend the current code and equations to a two-fluid model, incorporating the additional complexity of multiple components. I will use the equations provided above, along with those from the referenced paper, to analyze how the presence of a second mass-type affects the mass-radius relationship and overall stability of the system. Additionally, I personally will focus on studying the accretion rate and escape radius of these compact objects through numerical simulations. This will involve refining my integration methods and ensuring that the physical parameters remain within realistic bounds. By the end of the week, I aim to have preliminary results that offer insights into how multi-fluid effects influence the structure and evolution of these objects."
   ]
  },
  {
   "cell_type": "markdown",
   "metadata": {},
   "source": [
    "<span style=\"color: red;\">Good, how can you tie this back to the overall motivation and how these next steps further the aims of the project.</span>"
   ]
  },
  {
   "cell_type": "markdown",
   "metadata": {},
   "source": [
    "# 5. Bibliography\n",
    "\n",
    "Your references here"
   ]
  },
  {
   "cell_type": "markdown",
   "metadata": {},
   "source": [
    "Pitz, S. L., & Schaffner-Bielich, J. (2024). Generating ultra-compact neutron stars with bosonic dark matter. arXiv. https://arxiv.org/abs/2408.13157"
   ]
  },
  {
   "cell_type": "markdown",
   "metadata": {},
   "source": [
    "| Category       | Points      |\n",
    "| ------------- |:------------:|\n",
    "| Formatting    |       2       |\n",
    "| Experience    |       1       |\n",
    "| What?         |       2       |\n",
    "| So what?      |       2       |\n",
    "| Now what?     |       2       |\n",
    "| Bibliography  |       3       |\n",
    "| Style         |       3       |\n",
    "| Total         |       15      |"
   ]
  },
  {
   "cell_type": "markdown",
   "metadata": {},
   "source": []
  }
 ],
 "metadata": {
  "kernelspec": {
   "display_name": "base",
   "language": "python",
   "name": "python3"
  },
  "language_info": {
   "codemirror_mode": {
    "name": "ipython",
    "version": 3
   },
   "file_extension": ".py",
   "mimetype": "text/x-python",
   "name": "python",
   "nbconvert_exporter": "python",
   "pygments_lexer": "ipython3",
   "version": "3.9.7"
  }
 },
 "nbformat": 4,
 "nbformat_minor": 4
}
